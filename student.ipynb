{
 "cells": [
  {
   "cell_type": "markdown",
   "metadata": {},
   "source": [
    "# PH1 Project Submission\n",
    "\n",
    "Please fill out:\n",
    "* Student name: Sergey Syrvachev\n",
    "* Student pace: self paced / part time / full time : full time\n",
    "* Scheduled project review date/time: December 11\n",
    "* Instructor name: Mark Barbour\n",
    "* Blog post URL:\n"
   ]
  },
  {
   "cell_type": "markdown",
   "metadata": {},
   "source": [
    "#  1) Business problem"
   ]
  },
  {
   "cell_type": "markdown",
   "metadata": {},
   "source": [
    " Microsoft sees all the big companies creating original video content and they want to get in on the fun. They have decided to create a new movie studio, but they dont know anything about creating movies. You are charged with exploring what types of films are currently doing the best at the box office. You must then translate those findings into actionable insights that the head of Microsoft's new movie studio can use to help decide what type of films to create"
   ]
  },
  {
   "cell_type": "markdown",
   "metadata": {},
   "source": [
    "# 2) Input data and environment setup"
   ]
  },
  {
   "cell_type": "markdown",
   "metadata": {},
   "source": [
    "## 2.1) Data sources\n",
    "### Box Office Mojo databases\n",
    "Database containing data scraped from Box Office Mojo website, that tracks box-office revenue in a systematic, algorithmic way. \n",
    "Source_website: https://www.boxofficemojo.com/\n",
    "\n",
    "a) bom.movie_gross.csv\n",
    "Type of Information: Revenue data\n",
    "- Film name\n",
    "- Studio\n",
    "- Domestic gross revenue\n",
    "- Foreign gross revenue\n",
    "- Year of production\n",
    "\n",
    "### IMDB databases\n",
    "Databases containing data scraped from IMDB website. The largest website related to movies.\n",
    "Source_website: https://www.imdb.com/\n",
    "\n",
    "a) \"imdb.name.basics\" -  \n",
    "Type of Information: Names of directing staff and their best known films\n",
    "- PersonID\n",
    "- Name\n",
    "- Profession\n",
    "- Well known filmID\n",
    "b) \"imdb.title.akas\" \n",
    "Type of Information: Regions of film destribution and local film names.\n",
    "- FilmID\n",
    "- Region\n",
    "- Film name on local language\n",
    "- Original film name\n",
    "\n",
    "c) \"imdb.title.principals.csv\"\n",
    "Type of Information: Information about film directors and writers\n",
    "- FilmID\n",
    "- DirectorsID\n",
    "- WritersID\n",
    "\n",
    "d) File imdb.title.basics.csv'\n",
    "Type of Information: Information about start date, runtime and genres\n",
    "- FilmID\n",
    "- Primary film name\n",
    "- Original film name\n",
    "- Start date\n",
    "- Runtime\n",
    "- Genres\n",
    "\n",
    "e) File imdb.title.ratings.csv'\n",
    "Type of Information: Film raiting, IMDB version\n",
    "- FilmID\n",
    "- Average raiting\n",
    "- Number of voites\n",
    "\n",
    "### The number databases\n",
    "The Numbers is a film industry data website that tracks box office revenue in a systematic, algorithmic way\n",
    "Source_website: https://www.the-numbers.com/\n",
    "a) tn.movie_budgets.csv\n",
    "Type of Information: Information about film production date, budget and revenue\n",
    "- Film name\n",
    "- Release date\n",
    "- Production Budget\n",
    "- Local gross revenue\n",
    "- International gross revenue\n",
    "\n",
    "### The Movie Database (TMDB)\n",
    "The Movie Database (TMDB) is a community built movie and TV database\n",
    "Source_website: www.themoviedb.org\n",
    "\n",
    "a) tmdb.movies.csv\n",
    "Type of Information: Information about film production date, name and raiting basd on TMDB\n",
    "- Film name\n",
    "- Release date\n",
    "- Average raiting\n",
    "- Number of voites"
   ]
  },
  {
   "cell_type": "markdown",
   "metadata": {},
   "source": [
    "## 2.2) Modules\n",
    "This analysis will be made using python and additional libraries for: importing data, performing data operations, visalization.\n",
    "### List of modules"
   ]
  },
  {
   "cell_type": "code",
   "execution_count": 1,
   "metadata": {},
   "outputs": [],
   "source": [
    "# Data import\n",
    "import csv  #import of CSV files \n",
    "\n",
    "\n",
    "#Data operations\n",
    "import numpy as np  #Used for basic processing effective calculations\n",
    "import pandas as pd #Advanced DataFrames and Data processing\n",
    "pd.options.mode.chained_assignment = None\n",
    "\n",
    "#Visualization\n",
    "import matplotlib.pyplot as plt  #Basic visualization\n",
    "import seaborn as sns  #Advanced Visualization\n",
    "\n",
    "#SQL\n",
    "import sqlite3  #Performing SQL quaries\n",
    "#from pandasql import sqldf\n",
    "\n",
    "#Magic commands\n",
    "%timeit"
   ]
  },
  {
   "cell_type": "markdown",
   "metadata": {},
   "source": [
    "## 2.3) Data exploration"
   ]
  },
  {
   "cell_type": "code",
   "execution_count": 2,
   "metadata": {},
   "outputs": [],
   "source": [
    "# 1 - All databases and identify information containing in each of them.\n",
    "# 2 - Data explanation was added into 2.1 Data description. \n",
    "# 3 - All fields are # to reduce the lenght of notebook. \n",
    "\n",
    "# display(f\"File bom.movie_gross.csv\")\n",
    "# display(pd.read_csv(\"Data/bom.movie_gross.csv\").head(2))\n",
    "\n",
    "# display(f\"File imdb.name.basics.csv\")\n",
    "# display(pd.read_csv(\"Data/imdb.name.basics.csv\").head(2))\n",
    "\n",
    "# display(f\"File imdb.title.akas.csv\")\n",
    "# display(pd.read_csv(\"Data/imdb.title.akas.csv\").head(2))\n",
    "\n",
    "# display(f\"File imdb.title.basics.csv\")\n",
    "# display(pd.read_csv(\"Data/imdb.title.basics.csv\").head(2))\n",
    "\n",
    "# display(f\"File imdb.title.crew.csv\")\n",
    "# display(pd.read_csv(\"Data/imdb.title.crew.csv\").head(2))\n",
    "\n",
    "# display(f\"File imdb.title.principals.csv\")\n",
    "# display(pd.read_csv(\"Data/imdb.title.principals.csv\").head(2))\n",
    "\n",
    "# display(f\"File imdb.title.ratings.csv\")\n",
    "# display(pd.read_csv(\"Data/imdb.title.ratings.csv\").head(2))\n",
    "\n",
    "# display(f\"File tmdb.movies.csv\")\n",
    "# display(pd.read_csv(\"Data/tmdb.movies.csv\").head(2))\n",
    "\n",
    "# display(f\"File tn.movie_budgets.csv\")\n",
    "# display(pd.read_csv(\"Data/tn.movie_budgets.csv\").head(2))\n",
    "\n"
   ]
  },
  {
   "cell_type": "markdown",
   "metadata": {},
   "source": [
    "# 3) Analysis"
   ]
  },
  {
   "cell_type": "markdown",
   "metadata": {},
   "source": [
    "## 3.1) Basic market estimation\n",
    "\n",
    "In the first part we look into the box offices to see the box offices during the last 10 years. \n",
    "This data can be exctracted from 2 datasets, bom.movie_gross and tn.movie_budgets"
   ]
  },
  {
   "cell_type": "code",
   "execution_count": 3,
   "metadata": {},
   "outputs": [
    {
     "name": "stdout",
     "output_type": "stream",
     "text": [
      "\n",
      "Statistics for Box Office Mojo database (file bom.movie_gross.csv):\n",
      "\n",
      "This data base consist of observations for 9 years\n",
      "\n",
      "The number of records: - 3387\n",
      "\n",
      "Data base structure:\n",
      "<class 'pandas.core.frame.DataFrame'>\n",
      "RangeIndex: 3387 entries, 0 to 3386\n",
      "Data columns (total 5 columns):\n",
      " #   Column          Non-Null Count  Dtype  \n",
      "---  ------          --------------  -----  \n",
      " 0   title           3387 non-null   object \n",
      " 1   studio          3382 non-null   object \n",
      " 2   domestic_gross  3359 non-null   float64\n",
      " 3   foreign_gross   2037 non-null   object \n",
      " 4   year            3387 non-null   int64  \n",
      "dtypes: float64(1), int64(1), object(3)\n",
      "memory usage: 132.4+ KB\n",
      "Film year record looks like: < 2010 >, type <class 'numpy.int64'>\n",
      "\n",
      "\n",
      "Statistics for The number databases (tn.movie_budgets.csv):\n",
      "\n",
      "This data base consist of observations for 2418 years\n",
      "Film year record looks like: < Dec 18, 2009 >, type <class 'str'>\n",
      "\n",
      "The number of records: - 5782\n",
      "\n",
      "Data base structure:\n",
      "<class 'pandas.core.frame.DataFrame'>\n",
      "RangeIndex: 5782 entries, 0 to 5781\n",
      "Data columns (total 6 columns):\n",
      " #   Column             Non-Null Count  Dtype \n",
      "---  ------             --------------  ----- \n",
      " 0   id                 5782 non-null   int64 \n",
      " 1   release_date       5782 non-null   object\n",
      " 2   movie              5782 non-null   object\n",
      " 3   production_budget  5782 non-null   object\n",
      " 4   domestic_gross     5782 non-null   object\n",
      " 5   worldwide_gross    5782 non-null   object\n",
      "dtypes: int64(1), object(5)\n",
      "memory usage: 271.2+ KB\n"
     ]
    }
   ],
   "source": [
    "print(f\"\\nStatistics for Box Office Mojo database (file bom.movie_gross.csv):\\n\")\n",
    "df31 =  pd.read_csv(\"Data/bom.movie_gross.csv\")\n",
    "print(f\"This data base consist of observations for\", str(len(df31.groupby(\"year\").count())), \"years\")\n",
    "print(f\"\\nThe number of records: -\",len(df31[\"title\"]))\n",
    "print(f\"\\nData base structure:\")\n",
    "df31.info()\n",
    "\n",
    "print(f\"Film year record looks like: <\", str(df31[\"year\"][0]) , \">, type\", type(df31[\"year\"][0]))\n",
    "\n",
    "\n",
    "#df31[\"year\"].value()\n",
    "\n",
    "print(f\"\\n\\nStatistics for The number databases (tn.movie_budgets.csv):\\n\")\n",
    "df32 =  pd.read_csv(\"Data/tn.movie_budgets.csv\")\n",
    "print(f\"This data base consist of observations for\", str(len(df32.groupby(\"release_date\").count())), \"years\")\n",
    "print(f\"Film year record looks like: <\", str(df32[\"release_date\"][0]) , \">, type\", type(df32[\"release_date\"][0]) )\n",
    "print(f\"\\nThe number of records: -\",len(df32[\"movie\"]))\n",
    "print(f\"\\nData base structure:\")\n",
    "df32.info()\n",
    "\n"
   ]
  },
  {
   "cell_type": "code",
   "execution_count": 4,
   "metadata": {},
   "outputs": [
    {
     "name": "stdout",
     "output_type": "stream",
     "text": [
      " Box Office Mojo database has 3387 records between 2012-2018 years\n",
      " The Numbers database has 1596 records between 2012-2018 years\n"
     ]
    }
   ],
   "source": [
    "# \"The number\" databases release years normalization\n",
    "df32[\"release_year\"] = df32[\"release_date\"].map(lambda x: int(x[-4:]))\n",
    "df32[\"release_year\"].describe()\n",
    "\n",
    "TheNumber = df32[(df32[\"release_year\"] > 2011) & (df32[\"release_year\"] < 2019)]\n",
    "print(f\" Box Office Mojo database has\", len(df31[\"title\"]) ,\"records between 2012-2018 years\")\n",
    "print(f\" The Numbers database has {df32.release_year[(df32.release_year > 2011) & (df32.release_year < 2019)].shape[0]} records between 2012-2018 years\")\n",
    "\n",
    "\n",
    "\n",
    "\n",
    "\n",
    "\n",
    "#df31[\"Total_gross\"] = df31[\"domestic_gross\"] + df31[\"foreign_gross\"].astype(np.int64)"
   ]
  },
  {
   "cell_type": "code",
   "execution_count": 5,
   "metadata": {},
   "outputs": [
    {
     "name": "stdout",
     "output_type": "stream",
     "text": [
      "The Number of missing values in foreign box office: 1350\n",
      "The Number of missing values in foreign box office after drop NA rows: 0\n",
      "Type of value foreign gross office <class 'str'>\n",
      "Type of value foreign gross office after type modification<class 'numpy.float64'>\n",
      "We calculated the proportion between 2 groups of films:\n",
      "1) Films with only domestic box office\n",
      "2) Films with domestic and international box office\n",
      "Proportion is domestic_gross    0.023189\n",
      "dtype: float64 that is less than 5%\n",
      "While the number of films is 1350\n",
      "\n"
     ]
    }
   ],
   "source": [
    "# Investigation of NA values in Box Office Mojo database\n",
    "# 1) Sum total local gross box office and worldwide gross box office (with droping out NA values of missing international box office)\n",
    "# One of the reasons why foreign box office can be missing, because film wasn't displayed outside of country\n",
    "print(f\"The Number of missing values in foreign box office: {df31.foreign_gross.isna().sum()}\")\n",
    "df31_foreign_std = df31[df31[\"foreign_gross\"].notna()] #Drop NA rows foreign_gross to calculate the international revenue for each year\n",
    "print(f\"The Number of missing values in foreign box office after drop NA rows: {df31_foreign_std.foreign_gross.isna().sum()}\") \n",
    "print(f\"Type of value foreign gross office {type(df31_foreign_std.foreign_gross[0])}\")\n",
    "df31_foreign_std[\"foreign_gross_int\"]= df31_foreign_std[\"foreign_gross\"].map(lambda x: float(x.replace(\",\",\"\")))\n",
    "print(f\"Type of value foreign gross office after type modification{type(df31_foreign_std.foreign_gross_int[0])}\")\n",
    "\n",
    "\n",
    "# 2) Calculate of overall box office for films with the only domestic box office records(without international)\n",
    "df31_local_std = df31[df31[\"domestic_gross\"].notna()] #Drop NA rows foreign_gross to calculate the local revenue for each year\n",
    "Only_domestic=df31_local_std[df31_local_std[\"foreign_gross\"].isna()].groupby(\"year\").sum().sum()\n",
    "\n",
    "# 3) Calculate proportion between films with only domestic revenue and domestic part of international movies\n",
    "\n",
    "Only_local_proportion = Only_domestic/df31_foreign_std.groupby(\"year\")[\"domestic_gross\"].sum().sum()\n",
    "print(f\"\"\"We calculated the proportion between 2 groups of films:\n",
    "1) Films with only domestic box office\n",
    "2) Films with domestic and international box office\n",
    "Proportion is {Only_local_proportion} that is less than 5%\n",
    "While the number of films is {df31_local_std[df31_local_std[\"foreign_gross\"].isna()].groupby(\"year\").count().sum()[0]}\n",
    "\"\"\" )\n",
    "\n",
    "\n",
    "\n"
   ]
  },
  {
   "cell_type": "markdown",
   "metadata": {},
   "source": [
    "From Box Office Mojo database we can drop off 1350 movies (from 3359) that has domestic box office but don't have international because:\n",
    "1) While they represent the big proportion of movies, the domestic box office of these 1350 movies correspond to 2% of domestic box office of other films that have international box office\n",
    "\n",
    "Probable reason: These were small local films that were not shown internatilonally and they are not our focus group. "
   ]
  },
  {
   "cell_type": "code",
   "execution_count": 6,
   "metadata": {},
   "outputs": [
    {
     "data": {
      "image/png": "[encoded data removed]",
      "text/plain": [
       "<Figure size 720x360 with 1 Axes>"
      ]
     },
     "metadata": {
      "needs_background": "light"
     },
     "output_type": "display_data"
    },
    {
     "data": {
      "image/png": "[encoded data removed]",
      "text/plain": [
       "<Figure size 720x360 with 1 Axes>"
      ]
     },
     "metadata": {
      "needs_background": "light"
     },
     "output_type": "display_data"
    },
    {
     "name": "stdout",
     "output_type": "stream",
     "text": [
      "74872810.15046637\n",
      "137410600.84150565\n",
      "-199948391.5325449\n"
     ]
    }
   ],
   "source": [
    "\n",
    "\n",
    "# Let's see the histogram of films interntaional revenue distribution\n",
    "fig, ax = plt.subplots(figsize = (10,5) )\n",
    "plt.hist(df31_foreign_std[\"foreign_gross_int\"].values, bins=20)\n",
    "ax.set_title(\"International revenue distribution for films in 2012-2018\")\n",
    "ax.set_xlabel(\"Movie international revenue, 100 of mln USD\")\n",
    "ax.set_ylabel(\"Number of movies\")\n",
    "ax.set_xticks(range(0,1000000000,100000000))\n",
    "ax.set_xlim(0, 1000000000)\n",
    "\n",
    "plt.show()\n",
    "\n",
    "\n",
    "# Let's see the histogram of films local revenue distribution\n",
    "fig, ax = plt.subplots(figsize = (10,5) )\n",
    "plt.hist(df31_local_std[\"domestic_gross\"].values, bins=20)\n",
    "ax.set_title(\"Domestic market revenue distribution for films in 2012-2018\")\n",
    "ax.set_xlabel(\"Movies domestic revenue, 100 of mln USD\")\n",
    "ax.set_ylabel(\"Number of movies\")\n",
    "ax.set_xticks(range(0,500000000,50000000))\n",
    "ax.set_xlim(0, 500000000)\n",
    "\n",
    "plt.show()\n",
    "\n",
    "print(df31_foreign_std[\"foreign_gross_int\"].mean())\n",
    "print(df31_foreign_std[\"foreign_gross_int\"].std())\n",
    "threshold = df31_foreign_std[\"foreign_gross_int\"].mean() - 2*df31_foreign_std[\"foreign_gross_int\"].std()\n",
    "print(threshold)"
   ]
  },
  {
   "cell_type": "markdown",
   "metadata": {},
   "source": [
    "We can see that the majority of "
   ]
  },
  {
   "cell_type": "code",
   "execution_count": 7,
   "metadata": {},
   "outputs": [
    {
     "name": "stdout",
     "output_type": "stream",
     "text": [
      "Mean annual growth in worldwide box office was 2.01 %\n"
     ]
    },
    {
     "data": {
      "image/png": "[encoded data removed]",
      "text/plain": [
       "<Figure size 432x288 with 1 Axes>"
      ]
     },
     "metadata": {
      "needs_background": "light"
     },
     "output_type": "display_data"
    }
   ],
   "source": [
    "Total_revenue = pd.DataFrame()\n",
    "\n",
    "Total_revenue[\"domestic_gross\"] = df31_foreign_std.groupby(\"year\")[\"domestic_gross\"].sum()\n",
    "Total_revenue[\"foreign_gross_int\"] = df31_foreign_std.groupby(\"year\")[\"foreign_gross_int\"].sum()\n",
    "Total_revenue[\"World_wide\"] = Total_revenue[\"domestic_gross\"] + Total_revenue[\"foreign_gross_int\"]\n",
    "\n",
    "Average_growth = round(Total_revenue[\"World_wide\"].pct_change()[1:9].mean(), 4)*100\n",
    "\n",
    "sns.lineplot(data = Total_revenue)\n",
    "print(f\"Mean annual growth in worldwide box office was {Average_growth} %\")\n",
    "\n"
   ]
  },
  {
   "cell_type": "markdown",
   "metadata": {},
   "source": [
    "#### Filming industry is a stable growing market, with annual growth of worldwide box office 2 %"
   ]
  },
  {
   "cell_type": "markdown",
   "metadata": {},
   "source": [
    "## 3.2) Is there correlation between production cost and box office"
   ]
  },
  {
   "cell_type": "markdown",
   "metadata": {},
   "source": [
    "We can take information about box office and production cost from The number database"
   ]
  },
  {
   "cell_type": "code",
   "execution_count": 8,
   "metadata": {},
   "outputs": [],
   "source": [
    "DF_OvsP = df32[(df32.release_year > 2011) & (df32.release_year < 2019)]"
   ]
  },
  {
   "cell_type": "code",
   "execution_count": 9,
   "metadata": {},
   "outputs": [
    {
     "name": "stdout",
     "output_type": "stream",
     "text": [
      "<class 'pandas.core.frame.DataFrame'>\n",
      "Int64Index: 1596 entries, 3 to 5780\n",
      "Data columns (total 7 columns):\n",
      " #   Column             Non-Null Count  Dtype \n",
      "---  ------             --------------  ----- \n",
      " 0   id                 1596 non-null   int64 \n",
      " 1   release_date       1596 non-null   object\n",
      " 2   movie              1596 non-null   object\n",
      " 3   production_budget  1596 non-null   object\n",
      " 4   domestic_gross     1596 non-null   object\n",
      " 5   worldwide_gross    1596 non-null   object\n",
      " 6   release_year       1596 non-null   int64 \n",
      "dtypes: int64(2), object(5)\n",
      "memory usage: 99.8+ KB\n"
     ]
    }
   ],
   "source": [
    "DF_OvsP.info()\n",
    "\n",
    "DF_OvsP[\"production_budget_conv\"] = DF_OvsP[\"production_budget\"].map(lambda x: x.strip(\"$\").replace(\",\",\"\")).astype(np.int64)\n",
    "DF_OvsP[\"worldwide_gross_conv\"] = DF_OvsP[\"worldwide_gross\"].map(lambda x: x.strip(\"$\").replace(\",\",\"\")).astype(np.int64)"
   ]
  },
  {
   "cell_type": "code",
   "execution_count": 10,
   "metadata": {},
   "outputs": [
    {
     "name": "stdout",
     "output_type": "stream",
     "text": [
      "<class 'pandas.core.frame.DataFrame'>\n",
      "Int64Index: 1596 entries, 3 to 5780\n",
      "Data columns (total 9 columns):\n",
      " #   Column                  Non-Null Count  Dtype \n",
      "---  ------                  --------------  ----- \n",
      " 0   id                      1596 non-null   int64 \n",
      " 1   release_date            1596 non-null   object\n",
      " 2   movie                   1596 non-null   object\n",
      " 3   production_budget       1596 non-null   object\n",
      " 4   domestic_gross          1596 non-null   object\n",
      " 5   worldwide_gross         1596 non-null   object\n",
      " 6   release_year            1596 non-null   int64 \n",
      " 7   production_budget_conv  1596 non-null   int64 \n",
      " 8   worldwide_gross_conv    1596 non-null   int64 \n",
      "dtypes: int64(4), object(5)\n",
      "memory usage: 124.7+ KB\n"
     ]
    }
   ],
   "source": [
    "DF_OvsP.info()"
   ]
  },
  {
   "cell_type": "code",
   "execution_count": 11,
   "metadata": {},
   "outputs": [
    {
     "data": {
      "image/png": "[encoded data removed]",
      "text/plain": [
       "<Figure size 720x432 with 1 Axes>"
      ]
     },
     "metadata": {
      "needs_background": "light"
     },
     "output_type": "display_data"
    }
   ],
   "source": [
    "fig, ax = plt.subplots(1,1,figsize = (10, 6))\n",
    "sns.scatterplot(x = DF_OvsP[\"production_budget_conv\"], y = DF_OvsP[\"worldwide_gross_conv\"], alpha = 0.8)\n",
    "ax.set_xlabel(\"Film production cost\")\n",
    "ax.set_ylabel(\"Film worldwide box office\")\n",
    "ax.set_title(\"Films box office vs production cost\")\n",
    "plt.show()"
   ]
  },
  {
   "cell_type": "code",
   "execution_count": 12,
   "metadata": {},
   "outputs": [
    {
     "name": "stdout",
     "output_type": "stream",
     "text": [
      "Production budget has strong correlation with box office, correlation coefficient is 0.8124\n"
     ]
    }
   ],
   "source": [
    "DF_OvsP.corrwith(DF_OvsP[\"production_budget_conv\"])\n",
    "\n",
    "correlation=DF_OvsP.corrwith(DF_OvsP[\"production_budget_conv\"])[3]\n",
    "print(f\"Production budget has strong correlation with box office, correlation coefficient is {round(correlation, 4)}\")\n",
    "\n",
    "\n"
   ]
  },
  {
   "cell_type": "markdown",
   "metadata": {},
   "source": [
    "Lets check film budget based on 4 cathegories and check correaltion within them: \n",
    "- Indy film  < 500 000$\n",
    "\n",
    "- Low budget 500 000 - 9 999 999$\n",
    "\n",
    "- Medium budget 10 000 000 - 99 999 999$\n",
    "\n",
    "- Blockbuster > 100 000 000$"
   ]
  },
  {
   "cell_type": "code",
   "execution_count": 13,
   "metadata": {},
   "outputs": [
    {
     "data": {
      "text/plain": [
       "Low budget film       696\n",
       "Medium budget film    547\n",
       "Blockbuster           185\n",
       "Indy film             168\n",
       "Name: film_type, dtype: int64"
      ]
     },
     "execution_count": 13,
     "metadata": {},
     "output_type": "execute_result"
    }
   ],
   "source": [
    "# Budgeting division of films\n",
    "def budget(x):\n",
    "    if x < 1000000:\n",
    "        return \"Indy film\"\n",
    "    elif x < 19999999:\n",
    "        return \"Low budget film\"\n",
    "    elif x < 99999999:\n",
    "        return \"Medium budget film\"\n",
    "    else:\n",
    "        return \"Blockbuster\"\n",
    "\n",
    "DF_OvsP[\"film_type\"] = DF_OvsP[\"production_budget_conv\"].map(budget)\n",
    "DF_OvsP[\"film_type\"].value_counts()\n",
    "\n"
   ]
  },
  {
   "cell_type": "code",
   "execution_count": 14,
   "metadata": {},
   "outputs": [
    {
     "data": {
      "text/plain": [
       "Text(0.5, 1.0, 'Films box office vs production cost for different types of films')"
      ]
     },
     "execution_count": 14,
     "metadata": {},
     "output_type": "execute_result"
    },
    {
     "data": {
      "image/png": "[encoded data removed]",
      "text/plain": [
       "<Figure size 720x432 with 1 Axes>"
      ]
     },
     "metadata": {
      "needs_background": "light"
     },
     "output_type": "display_data"
    }
   ],
   "source": [
    "fig, ax = plt.subplots(1 ,1 , figsize =(10,6))\n",
    "sns.scatterplot(x = DF_OvsP[\"production_budget_conv\"], y = DF_OvsP[\"worldwide_gross_conv\"], hue = DF_OvsP[\"film_type\"], alpha = 0.8)\n",
    "ax.set_xlabel(\"Film production cost\")\n",
    "ax.set_ylabel(\"Film worldwide box office\")\n",
    "ax.set_xticks(range(0, max(DF_OvsP[\"production_budget_conv\"]), 50000000))\n",
    "ax.set_title(\"Films box office vs production cost for different types of films\")"
   ]
  },
  {
   "cell_type": "code",
   "execution_count": 15,
   "metadata": {},
   "outputs": [
    {
     "name": "stdout",
     "output_type": "stream",
     "text": [
      "\n",
      "Correlation coefficient between production cost and worldwide box office in different types of movies:\n",
      "1) Indy films 0.06085\n",
      "2) Low budget films 0.32024\n",
      "3) Medium budget films 0.48036\n",
      "4) Blockbuster films 0.60276\n",
      "\n",
      "General correlation 0.81241\n",
      "\n"
     ]
    }
   ],
   "source": [
    "#Correlation in different film groups claculations:\n",
    "\n",
    "#Define new datasets\n",
    "Indy_films = DF_OvsP[DF_OvsP[\"film_type\"] == \"Indy film\"]\n",
    "Low_budget = DF_OvsP[DF_OvsP[\"film_type\"] == \"Low budget film\"]\n",
    "Medium_budget = DF_OvsP[DF_OvsP[\"film_type\"] == \"Medium budget film\"]\n",
    "Blockbuster = DF_OvsP[DF_OvsP[\"film_type\"] == \"Blockbuster\"]\n",
    "\n",
    "#correlation calculations\n",
    "correlation_indy=Indy_films.corrwith(Indy_films[\"production_budget_conv\"])\n",
    "correlation_low=Low_budget.corrwith(Low_budget[\"production_budget_conv\"])\n",
    "correlation_medium = Medium_budget.corrwith(Medium_budget[\"production_budget_conv\"])\n",
    "correlation_blockbuster = Blockbuster.corrwith(Blockbuster[\"production_budget_conv\"])\n",
    "correlation = DF_OvsP.corrwith(DF_OvsP[\"production_budget_conv\"])\n",
    "\n",
    "# Output statement\n",
    "print(f\"\"\"\n",
    "Correlation coefficient between production cost and worldwide box office in different types of movies:\n",
    "1) Indy films {round(correlation_indy[3], 5)}\n",
    "2) Low budget films {round(correlation_low[3], 5)}\n",
    "3) Medium budget films {round(correlation_medium[3], 5)}\n",
    "4) Blockbuster films {round(correlation_blockbuster[3], 5)}\n",
    "\n",
    "General correlation {round(correlation[3], 5)}\n",
    "\"\"\")\n",
    "\n"
   ]
  },
  {
   "cell_type": "markdown",
   "metadata": {},
   "source": [
    "#### As we can see from the scatterplot, there is a strong correlation between production cost and film box office. From Further investigation we can see that correlation strenght depends on production cost and increases with higher budgets. Starting with almost non correlation for Indy films (budget < 1 000 000 USD), and ending strong correlation 0.60276 for Blockbuster films(budget > 100 000 000 USD)\n",
    "\n",
    "Table of correlation: \n",
    "\n",
    "1) Indy films 0.06085\n",
    "\n",
    "2) Low budget films 0.32005\n",
    "\n",
    "3) Medium budget films 0.48036\n",
    "\n",
    "4) Blockbuster films 0.60276\n"
   ]
  },
  {
   "cell_type": "markdown",
   "metadata": {},
   "source": [
    "# Film distrubution within studios"
   ]
  },
  {
   "cell_type": "code",
   "execution_count": 16,
   "metadata": {},
   "outputs": [
    {
     "name": "stdout",
     "output_type": "stream",
     "text": [
      "<class 'pandas.core.frame.DataFrame'>\n",
      "Int64Index: 2037 entries, 0 to 3353\n",
      "Data columns (total 6 columns):\n",
      " #   Column             Non-Null Count  Dtype  \n",
      "---  ------             --------------  -----  \n",
      " 0   title              2037 non-null   object \n",
      " 1   studio             2033 non-null   object \n",
      " 2   domestic_gross     2009 non-null   float64\n",
      " 3   foreign_gross      2037 non-null   object \n",
      " 4   year               2037 non-null   int64  \n",
      " 5   foreign_gross_int  2037 non-null   float64\n",
      "dtypes: float64(2), int64(1), object(3)\n",
      "memory usage: 175.9+ KB\n"
     ]
    }
   ],
   "source": [
    "df31_foreign_std.info()"
   ]
  },
  {
   "cell_type": "code",
   "execution_count": 17,
   "metadata": {},
   "outputs": [
    {
     "name": "stdout",
     "output_type": "stream",
     "text": [
      "<class 'pandas.core.frame.DataFrame'>\n",
      "Int64Index: 2007 entries, 0 to 3353\n",
      "Data columns (total 6 columns):\n",
      " #   Column             Non-Null Count  Dtype  \n",
      "---  ------             --------------  -----  \n",
      " 0   title              2007 non-null   object \n",
      " 1   studio             2007 non-null   object \n",
      " 2   domestic_gross     2007 non-null   float64\n",
      " 3   foreign_gross      2007 non-null   object \n",
      " 4   year               2007 non-null   int64  \n",
      " 5   foreign_gross_int  2007 non-null   float64\n",
      "dtypes: float64(2), int64(1), object(3)\n",
      "memory usage: 109.8+ KB\n"
     ]
    }
   ],
   "source": [
    "studios = df31_foreign_std.dropna()\n",
    "studios.info()\n",
    "studios[\"worldwide\"] = studios[\"domestic_gross\"] + studios[\"foreign_gross_int\"]"
   ]
  },
  {
   "cell_type": "code",
   "execution_count": 18,
   "metadata": {},
   "outputs": [
    {
     "data": {
      "text/plain": [
       "studio\n",
       "Uni.     144\n",
       "Fox      134\n",
       "WB       130\n",
       "Sony     105\n",
       "BV       104\n",
       "Par.      94\n",
       "LGF       87\n",
       "Wein.     69\n",
       "IFC       68\n",
       "SPC       59\n",
       "dtype: int64"
      ]
     },
     "execution_count": 18,
     "metadata": {},
     "output_type": "execute_result"
    }
   ],
   "source": [
    "studios.value_counts(\"studio\").head(10)"
   ]
  },
  {
   "cell_type": "code",
   "execution_count": 19,
   "metadata": {},
   "outputs": [
    {
     "data": {
      "text/plain": [
       "[0, 1, 2, 3, 4]"
      ]
     },
     "execution_count": 19,
     "metadata": {},
     "output_type": "execute_result"
    }
   ],
   "source": [
    "Uni_films = studios[studios[\"studio\"] == \"Uni.\"]\n",
    "fox_films = studios[studios[\"studio\"] == \"Fox\"]\n",
    "WB_films = studios[studios[\"studio\"] == \"WB\"]\n",
    "Sony_films = studios[studios[\"studio\"] == \"Sony\"]\n",
    "BV_films = studios[studios[\"studio\"] == \"BV\"]\n",
    "Par_films = studios[studios[\"studio\"] == \"Par.\"]\n",
    "\n",
    "list_studio = [Uni_films, fox_films, WB_films, Sony_films, BV_films, Par_films]\n",
    "list_studio_names = [\"Universal films\", \"Fox studio\", \"Warner Bros.\", \"Sony pictures\", \"Disney Studio\", \"Paramount pictures\"]\n",
    "list(range(0,5))"
   ]
  },
  {
   "cell_type": "code",
   "execution_count": 20,
   "metadata": {},
   "outputs": [
    {
     "data": {
      "text/plain": [
       "3162    66300000.0\n",
       "3173    50500000.0\n",
       "3180    41100000.0\n",
       "3186    34900000.0\n",
       "3189    31800000.0\n",
       "Name: worldwide, dtype: float64"
      ]
     },
     "execution_count": 20,
     "metadata": {},
     "output_type": "execute_result"
    }
   ],
   "source": [
    "fox_films[\"worldwide\"].tail()"
   ]
  },
  {
   "cell_type": "code",
   "execution_count": 21,
   "metadata": {},
   "outputs": [
    {
     "name": "stdout",
     "output_type": "stream",
     "text": [
      "Studio Universal films has the least box office of 2.0mln USD\n",
      "Studio Universal films has a 25th percentile box office of 74.0mln USD\n",
      "Studio Universal films has the mean box office of 130.0mln USD\n",
      "Studio Universal films has a 75th percentile box office of 272.0mln USD\n",
      "Studio Fox studio has the least box office of 4.0mln USD\n",
      "Studio Fox studio has a 25th percentile box office of 71.0mln USD\n",
      "Studio Fox studio has the mean box office of 164.0mln USD\n",
      "Studio Fox studio has a 75th percentile box office of 352.0mln USD\n",
      "Studio Warner Bros. has the least box office of 3.0mln USD\n",
      "Studio Warner Bros. has a 25th percentile box office of 58.0mln USD\n",
      "Studio Warner Bros. has the mean box office of 128.0mln USD\n",
      "Studio Warner Bros. has a 75th percentile box office of 310.0mln USD\n",
      "Studio Sony pictures has the least box office of 2.0mln USD\n",
      "Studio Sony pictures has a 25th percentile box office of 58.0mln USD\n",
      "Studio Sony pictures has the mean box office of 150.0mln USD\n",
      "Studio Sony pictures has a 75th percentile box office of 247.0mln USD\n",
      "Studio Disney Studio has the least box office of 0.0mln USD\n",
      "Studio Disney Studio has a 25th percentile box office of 81.0mln USD\n",
      "Studio Disney Studio has the mean box office of 228.0mln USD\n",
      "Studio Disney Studio has a 75th percentile box office of 688.0mln USD\n",
      "Studio Paramount pictures has the least box office of 2.0mln USD\n",
      "Studio Paramount pictures has a 25th percentile box office of 55.0mln USD\n",
      "Studio Paramount pictures has the mean box office of 146.0mln USD\n",
      "Studio Paramount pictures has a 75th percentile box office of 313.0mln USD\n"
     ]
    },
    {
     "data": {
      "image/png": "[encoded data removed]",
      "text/plain": [
       "<Figure size 1008x720 with 6 Axes>"
      ]
     },
     "metadata": {
      "needs_background": "light"
     },
     "output_type": "display_data"
    }
   ],
   "source": [
    "fig, ax = plt.subplots(2, 3, figsize = (14,10), squeeze = True, sharex=True)\n",
    "\n",
    "for num in list(range(0,6)):\n",
    "    row = num//3\n",
    "    column = num%3\n",
    "    ax[row][column].hist(list_studio[num][\"worldwide\"].values, bins=20)\n",
    "    ax[row][column].set_title(list_studio_names[num])\n",
    "    ax[row][column].set_xlabel(\"Box office , 100 mln USD\")\n",
    "    ax[row][column].set_ylabel(\"Number of films\")\n",
    "    \n",
    "percentile_low = 25\n",
    "percentile_high = 75\n",
    "for num in list(range(0,6)):\n",
    "    lowest = np.percentile(list_studio[num][\"worldwide\"].values, 0)\n",
    "    perc_low = np.percentile(list_studio[num][\"worldwide\"].values, percentile_low)\n",
    "    mean = np.percentile(list_studio[num][\"worldwide\"].values, 50)\n",
    "    perc_high = np.percentile(list_studio[num][\"worldwide\"].values, percentile_high)\n",
    "    \n",
    "    lowest\n",
    "    print(f\"Studio {list_studio_names[num]} has the least box office of {round(lowest/1000000,0)}mln USD\")\n",
    "    print(f\"Studio {list_studio_names[num]} has a {percentile_low}th percentile box office of {round(perc_low/1000000,0)}mln USD\")\n",
    "    print(f\"Studio {list_studio_names[num]} has the mean box office of {round(mean/1000000,0)}mln USD\")\n",
    "    print(f\"Studio {list_studio_names[num]} has a {percentile_high}th percentile box office of {round(perc_high/1000000,0)}mln USD\")\n",
    "    \n",
    "\n",
    "\n"
   ]
  },
  {
   "cell_type": "code",
   "execution_count": 22,
   "metadata": {},
   "outputs": [
    {
     "data": {
      "text/plain": [
       "array([44100000., 33200000., 27300000., 39700000., 34900000., 30399999.,\n",
       "       18700000.,  7444000., 54800000., 50389000.,  6000600., 62700000.,\n",
       "       36900000., 16900000., 62900000., 34300000., 14400000., 46200000.,\n",
       "       29900000., 14300000.,  8800000.,  3933000., 62800000., 60900000.,\n",
       "       40100000., 26600000., 50500000., 41100000., 34900000., 31800000.])"
      ]
     },
     "execution_count": 22,
     "metadata": {},
     "output_type": "execute_result"
    }
   ],
   "source": [
    "    \n",
    "list_studio[1][\"worldwide\"][list_studio[1][\"worldwide\"] < 66300000].values\n",
    "\n"
   ]
  },
  {
   "cell_type": "code",
   "execution_count": 23,
   "metadata": {},
   "outputs": [
    {
     "data": {
      "image/png": "[encoded data removed]",
      "text/plain": [
       "<Figure size 1008x720 with 6 Axes>"
      ]
     },
     "metadata": {
      "needs_background": "light"
     },
     "output_type": "display_data"
    }
   ],
   "source": [
    "fig, ax = plt.subplots(2, 3, figsize = (14,10), squeeze = True)\n",
    "for num in list(range(0,6)):\n",
    "    row = num//3\n",
    "    column = num%3\n",
    "    ax[row][column].hist(list_studio[num][\"worldwide\"][list_studio[num][\"worldwide\"] < 350000000].values, bins=20)\n",
    "    ax[row][column].set_title(list_studio_names[num])\n",
    "    ax[row][column].set_xlabel(\"Box office, 100 mln USD\")\n",
    "    ax[row][column].set_ylabel(\"Number of films\")\n",
    "    "
   ]
  },
  {
   "cell_type": "code",
   "execution_count": null,
   "metadata": {},
   "outputs": [],
   "source": []
  },
  {
   "cell_type": "markdown",
   "metadata": {},
   "source": [
    "### Popular genres \n"
   ]
  },
  {
   "cell_type": "code",
   "execution_count": 24,
   "metadata": {},
   "outputs": [],
   "source": [
    "# display(f\"File imdb.title.basics.csv\")\n",
    "# display(pd.read_csv(\"Data/imdb.title.basics.csv\").head(2))\n",
    "\n",
    "#display(f\"File imdb.title.crew.csv\")\n",
    "# display(pd.read_csv(\"Data/imdb.title.crew.csv\").head(2))\n",
    "\n",
    "# display(f\"File imdb.title.principals.csv\")\n",
    "# display(pd.read_csv(\"Data/imdb.title.principals.csv\").head(2))\n",
    "\n",
    "# display(f\"File imdb.title.ratings.csv\")\n",
    "# display(pd.read_csv(\"Data/imdb.title.ratings.csv\").head(2))"
   ]
  },
  {
   "cell_type": "code",
   "execution_count": 25,
   "metadata": {},
   "outputs": [
    {
     "name": "stdout",
     "output_type": "stream",
     "text": [
      "<class 'pandas.core.frame.DataFrame'>\n",
      "RangeIndex: 146144 entries, 0 to 146143\n",
      "Data columns (total 6 columns):\n",
      " #   Column           Non-Null Count   Dtype  \n",
      "---  ------           --------------   -----  \n",
      " 0   tconst           146144 non-null  object \n",
      " 1   primary_title    146144 non-null  object \n",
      " 2   original_title   146123 non-null  object \n",
      " 3   start_year       146144 non-null  int64  \n",
      " 4   runtime_minutes  114405 non-null  float64\n",
      " 5   genres           140736 non-null  object \n",
      "dtypes: float64(1), int64(1), object(4)\n",
      "memory usage: 6.7+ MB\n"
     ]
    }
   ],
   "source": [
    "#Lets load database with films, crew and crew names\n",
    "ganres_df_initial = pd.read_csv(\"Data/imdb.title.basics.csv\")\n",
    "ganres_df_initial.isna().sum()\n",
    "ganres_df_initial.info()\n",
    "\n",
    "film_pr = pd.read_csv(\"Data/imdb.title.principals.csv\")\n",
    "names = pd.read_csv(\"Data/imdb.name.basics.csv\")\n",
    "\n",
    "\n",
    "\n",
    "#ganres_df[\"genres_split\"] =ganres_df[\"genres\"].map(lambda x : x.split(\",\")) \n",
    "#ganres_df"
   ]
  },
  {
   "cell_type": "code",
   "execution_count": 26,
   "metadata": {},
   "outputs": [
    {
     "data": {
      "text/plain": [
       "2017    17504\n",
       "2016    17272\n",
       "2018    16849\n",
       "2015    16243\n",
       "2014    15589\n",
       "2013    14709\n",
       "2012    13787\n",
       "2011    12900\n",
       "2010    11849\n",
       "Name: start_year, dtype: int64"
      ]
     },
     "execution_count": 26,
     "metadata": {},
     "output_type": "execute_result"
    }
   ],
   "source": [
    "# Check the data during different time\n",
    "ganres_df_initial[\"start_year\"].value_counts()\n",
    "\n",
    "# Trim the years to work with dataset from 2010 to 2018. \n",
    "ganres_df_with_na= ganres_df_initial[(ganres_df_initial[\"start_year\"] > 2009) & (ganres_df_initial[\"start_year\"] < 2019)]\n",
    "ganres_df_with_na[\"start_year\"].value_counts()\n"
   ]
  },
  {
   "cell_type": "code",
   "execution_count": 27,
   "metadata": {},
   "outputs": [
    {
     "name": "stdout",
     "output_type": "stream",
     "text": [
      "<class 'pandas.core.frame.DataFrame'>\n",
      "Int64Index: 136702 entries, 0 to 146143\n",
      "Data columns (total 6 columns):\n",
      " #   Column           Non-Null Count   Dtype  \n",
      "---  ------           --------------   -----  \n",
      " 0   tconst           136702 non-null  object \n",
      " 1   primary_title    136702 non-null  object \n",
      " 2   original_title   136683 non-null  object \n",
      " 3   start_year       136702 non-null  int64  \n",
      " 4   runtime_minutes  109815 non-null  float64\n",
      " 5   genres           131664 non-null  object \n",
      "dtypes: float64(1), int64(1), object(4)\n",
      "memory usage: 7.3+ MB\n"
     ]
    }
   ],
   "source": [
    "#Check how many NON type left\n",
    "ganres_df_with_na.info()\n",
    "#Missing ganres info is less than 5%, drop this info\n"
   ]
  },
  {
   "cell_type": "code",
   "execution_count": 28,
   "metadata": {},
   "outputs": [
    {
     "name": "stdout",
     "output_type": "stream",
     "text": [
      "<class 'pandas.core.frame.DataFrame'>\n",
      "Int64Index: 131664 entries, 0 to 146143\n",
      "Data columns (total 6 columns):\n",
      " #   Column           Non-Null Count   Dtype  \n",
      "---  ------           --------------   -----  \n",
      " 0   tconst           131664 non-null  object \n",
      " 1   primary_title    131664 non-null  object \n",
      " 2   original_title   131662 non-null  object \n",
      " 3   start_year       131664 non-null  int64  \n",
      " 4   runtime_minutes  107712 non-null  float64\n",
      " 5   genres           131664 non-null  object \n",
      "dtypes: float64(1), int64(1), object(4)\n",
      "memory usage: 7.0+ MB\n",
      "<class 'str'>\n"
     ]
    }
   ],
   "source": [
    "ganres_df = ganres_df_with_na[ganres_df_with_na[\"genres\"].notna()]\n",
    "ganres_df.info()\n",
    "print(type(ganres_df[\"genres\"][0]))"
   ]
  },
  {
   "cell_type": "code",
   "execution_count": 29,
   "metadata": {},
   "outputs": [
    {
     "data": {
      "text/html": [
       "<div>\n",
       "<style scoped>\n",
       "    .dataframe tbody tr th:only-of-type {\n",
       "        vertical-align: middle;\n",
       "    }\n",
       "\n",
       "    .dataframe tbody tr th {\n",
       "        vertical-align: top;\n",
       "    }\n",
       "\n",
       "    .dataframe thead th {\n",
       "        text-align: right;\n",
       "    }\n",
       "</style>\n",
       "<table border=\"1\" class=\"dataframe\">\n",
       "  <thead>\n",
       "    <tr style=\"text-align: right;\">\n",
       "      <th></th>\n",
       "      <th>tconst</th>\n",
       "      <th>primary_title</th>\n",
       "      <th>original_title</th>\n",
       "      <th>start_year</th>\n",
       "      <th>runtime_minutes</th>\n",
       "      <th>genres</th>\n",
       "      <th>genres_split</th>\n",
       "    </tr>\n",
       "  </thead>\n",
       "  <tbody>\n",
       "    <tr>\n",
       "      <th>0</th>\n",
       "      <td>tt0063540</td>\n",
       "      <td>Sunghursh</td>\n",
       "      <td>Sunghursh</td>\n",
       "      <td>2013</td>\n",
       "      <td>175.0</td>\n",
       "      <td>Action,Crime,Drama</td>\n",
       "      <td>[Action, Crime, Drama]</td>\n",
       "    </tr>\n",
       "    <tr>\n",
       "      <th>2</th>\n",
       "      <td>tt0069049</td>\n",
       "      <td>The Other Side of the Wind</td>\n",
       "      <td>The Other Side of the Wind</td>\n",
       "      <td>2018</td>\n",
       "      <td>122.0</td>\n",
       "      <td>Drama</td>\n",
       "      <td>[Drama]</td>\n",
       "    </tr>\n",
       "    <tr>\n",
       "      <th>3</th>\n",
       "      <td>tt0069204</td>\n",
       "      <td>Sabse Bada Sukh</td>\n",
       "      <td>Sabse Bada Sukh</td>\n",
       "      <td>2018</td>\n",
       "      <td>NaN</td>\n",
       "      <td>Comedy,Drama</td>\n",
       "      <td>[Comedy, Drama]</td>\n",
       "    </tr>\n",
       "    <tr>\n",
       "      <th>4</th>\n",
       "      <td>tt0100275</td>\n",
       "      <td>The Wandering Soap Opera</td>\n",
       "      <td>La Telenovela Errante</td>\n",
       "      <td>2017</td>\n",
       "      <td>80.0</td>\n",
       "      <td>Comedy,Drama,Fantasy</td>\n",
       "      <td>[Comedy, Drama, Fantasy]</td>\n",
       "    </tr>\n",
       "    <tr>\n",
       "      <th>5</th>\n",
       "      <td>tt0111414</td>\n",
       "      <td>A Thin Life</td>\n",
       "      <td>A Thin Life</td>\n",
       "      <td>2018</td>\n",
       "      <td>75.0</td>\n",
       "      <td>Comedy</td>\n",
       "      <td>[Comedy]</td>\n",
       "    </tr>\n",
       "    <tr>\n",
       "      <th>...</th>\n",
       "      <td>...</td>\n",
       "      <td>...</td>\n",
       "      <td>...</td>\n",
       "      <td>...</td>\n",
       "      <td>...</td>\n",
       "      <td>...</td>\n",
       "      <td>...</td>\n",
       "    </tr>\n",
       "    <tr>\n",
       "      <th>146133</th>\n",
       "      <td>tt9916132</td>\n",
       "      <td>The Mystery of a Buryat Lama</td>\n",
       "      <td>The Mystery of a Buryat Lama</td>\n",
       "      <td>2018</td>\n",
       "      <td>94.0</td>\n",
       "      <td>Biography,Documentary,History</td>\n",
       "      <td>[Biography, Documentary, History]</td>\n",
       "    </tr>\n",
       "    <tr>\n",
       "      <th>146136</th>\n",
       "      <td>tt9916186</td>\n",
       "      <td>Illenau - die Geschichte einer ehemaligen Heil...</td>\n",
       "      <td>Illenau - die Geschichte einer ehemaligen Heil...</td>\n",
       "      <td>2017</td>\n",
       "      <td>84.0</td>\n",
       "      <td>Documentary</td>\n",
       "      <td>[Documentary]</td>\n",
       "    </tr>\n",
       "    <tr>\n",
       "      <th>146140</th>\n",
       "      <td>tt9916622</td>\n",
       "      <td>Rodolpho Teóphilo - O Legado de um Pioneiro</td>\n",
       "      <td>Rodolpho Teóphilo - O Legado de um Pioneiro</td>\n",
       "      <td>2015</td>\n",
       "      <td>NaN</td>\n",
       "      <td>Documentary</td>\n",
       "      <td>[Documentary]</td>\n",
       "    </tr>\n",
       "    <tr>\n",
       "      <th>146141</th>\n",
       "      <td>tt9916706</td>\n",
       "      <td>Dankyavar Danka</td>\n",
       "      <td>Dankyavar Danka</td>\n",
       "      <td>2013</td>\n",
       "      <td>NaN</td>\n",
       "      <td>Comedy</td>\n",
       "      <td>[Comedy]</td>\n",
       "    </tr>\n",
       "    <tr>\n",
       "      <th>146143</th>\n",
       "      <td>tt9916754</td>\n",
       "      <td>Chico Albuquerque - Revelações</td>\n",
       "      <td>Chico Albuquerque - Revelações</td>\n",
       "      <td>2013</td>\n",
       "      <td>NaN</td>\n",
       "      <td>Documentary</td>\n",
       "      <td>[Documentary]</td>\n",
       "    </tr>\n",
       "  </tbody>\n",
       "</table>\n",
       "<p>131664 rows × 7 columns</p>\n",
       "</div>"
      ],
      "text/plain": [
       "           tconst                                      primary_title  \\\n",
       "0       tt0063540                                          Sunghursh   \n",
       "2       tt0069049                         The Other Side of the Wind   \n",
       "3       tt0069204                                    Sabse Bada Sukh   \n",
       "4       tt0100275                           The Wandering Soap Opera   \n",
       "5       tt0111414                                        A Thin Life   \n",
       "...           ...                                                ...   \n",
       "146133  tt9916132                       The Mystery of a Buryat Lama   \n",
       "146136  tt9916186  Illenau - die Geschichte einer ehemaligen Heil...   \n",
       "146140  tt9916622        Rodolpho Teóphilo - O Legado de um Pioneiro   \n",
       "146141  tt9916706                                    Dankyavar Danka   \n",
       "146143  tt9916754                     Chico Albuquerque - Revelações   \n",
       "\n",
       "                                           original_title  start_year  \\\n",
       "0                                               Sunghursh        2013   \n",
       "2                              The Other Side of the Wind        2018   \n",
       "3                                         Sabse Bada Sukh        2018   \n",
       "4                                   La Telenovela Errante        2017   \n",
       "5                                             A Thin Life        2018   \n",
       "...                                                   ...         ...   \n",
       "146133                       The Mystery of a Buryat Lama        2018   \n",
       "146136  Illenau - die Geschichte einer ehemaligen Heil...        2017   \n",
       "146140        Rodolpho Teóphilo - O Legado de um Pioneiro        2015   \n",
       "146141                                    Dankyavar Danka        2013   \n",
       "146143                     Chico Albuquerque - Revelações        2013   \n",
       "\n",
       "        runtime_minutes                         genres  \\\n",
       "0                 175.0             Action,Crime,Drama   \n",
       "2                 122.0                          Drama   \n",
       "3                   NaN                   Comedy,Drama   \n",
       "4                  80.0           Comedy,Drama,Fantasy   \n",
       "5                  75.0                         Comedy   \n",
       "...                 ...                            ...   \n",
       "146133             94.0  Biography,Documentary,History   \n",
       "146136             84.0                    Documentary   \n",
       "146140              NaN                    Documentary   \n",
       "146141              NaN                         Comedy   \n",
       "146143              NaN                    Documentary   \n",
       "\n",
       "                             genres_split  \n",
       "0                  [Action, Crime, Drama]  \n",
       "2                                 [Drama]  \n",
       "3                         [Comedy, Drama]  \n",
       "4                [Comedy, Drama, Fantasy]  \n",
       "5                                [Comedy]  \n",
       "...                                   ...  \n",
       "146133  [Biography, Documentary, History]  \n",
       "146136                      [Documentary]  \n",
       "146140                      [Documentary]  \n",
       "146141                           [Comedy]  \n",
       "146143                      [Documentary]  \n",
       "\n",
       "[131664 rows x 7 columns]"
      ]
     },
     "execution_count": 29,
     "metadata": {},
     "output_type": "execute_result"
    }
   ],
   "source": [
    "#Transform ganres from string to list for further processing\n",
    "ganres_df[\"genres_split\"] = ganres_df[\"genres\"].map(lambda x : x.split(\",\")) \n",
    "ganres_df"
   ]
  },
  {
   "cell_type": "code",
   "execution_count": 30,
   "metadata": {},
   "outputs": [
    {
     "data": {
      "text/plain": [
       "['Action',\n",
       " 'Crime',\n",
       " 'Drama',\n",
       " 'Comedy',\n",
       " 'Fantasy',\n",
       " 'Horror',\n",
       " 'Thriller',\n",
       " 'Adventure',\n",
       " 'Animation',\n",
       " 'Documentary',\n",
       " 'History',\n",
       " 'Biography',\n",
       " 'Mystery',\n",
       " 'Sci-Fi',\n",
       " 'Romance',\n",
       " 'Family',\n",
       " 'War',\n",
       " 'Music',\n",
       " 'Sport',\n",
       " 'Western',\n",
       " 'Musical']"
      ]
     },
     "execution_count": 30,
     "metadata": {},
     "output_type": "execute_result"
    }
   ],
   "source": [
    "#lets find unique ganre types\n",
    "ganres=ganres_df[\"genres_split\"].values[0:500]\n",
    "ganres\n",
    "ganre_types =[]\n",
    "for film in ganres:\n",
    "    for i in film:\n",
    "        if i not in ganre_types:\n",
    "            ganre_types.append(i)\n",
    "\n",
    "ganre_types"
   ]
  },
  {
   "cell_type": "code",
   "execution_count": 34,
   "metadata": {},
   "outputs": [
    {
     "data": {
      "text/html": [
       "<div>\n",
       "<style scoped>\n",
       "    .dataframe tbody tr th:only-of-type {\n",
       "        vertical-align: middle;\n",
       "    }\n",
       "\n",
       "    .dataframe tbody tr th {\n",
       "        vertical-align: top;\n",
       "    }\n",
       "\n",
       "    .dataframe thead th {\n",
       "        text-align: right;\n",
       "    }\n",
       "</style>\n",
       "<table border=\"1\" class=\"dataframe\">\n",
       "  <thead>\n",
       "    <tr style=\"text-align: right;\">\n",
       "      <th></th>\n",
       "      <th>tconst</th>\n",
       "      <th>primary_title</th>\n",
       "      <th>original_title</th>\n",
       "      <th>start_year</th>\n",
       "      <th>runtime_minutes</th>\n",
       "      <th>genres</th>\n",
       "      <th>genres_split</th>\n",
       "      <th>Action</th>\n",
       "      <th>Crime</th>\n",
       "      <th>Drama</th>\n",
       "      <th>...</th>\n",
       "      <th>Biography</th>\n",
       "      <th>Mystery</th>\n",
       "      <th>Sci-Fi</th>\n",
       "      <th>Romance</th>\n",
       "      <th>Family</th>\n",
       "      <th>War</th>\n",
       "      <th>Music</th>\n",
       "      <th>Sport</th>\n",
       "      <th>Western</th>\n",
       "      <th>Musical</th>\n",
       "    </tr>\n",
       "  </thead>\n",
       "  <tbody>\n",
       "    <tr>\n",
       "      <th>0</th>\n",
       "      <td>tt0063540</td>\n",
       "      <td>Sunghursh</td>\n",
       "      <td>Sunghursh</td>\n",
       "      <td>2013</td>\n",
       "      <td>175.0</td>\n",
       "      <td>Action,Crime,Drama</td>\n",
       "      <td>[Action, Crime, Drama]</td>\n",
       "      <td>1</td>\n",
       "      <td>1</td>\n",
       "      <td>1</td>\n",
       "      <td>...</td>\n",
       "      <td>0</td>\n",
       "      <td>0</td>\n",
       "      <td>0</td>\n",
       "      <td>0</td>\n",
       "      <td>0</td>\n",
       "      <td>0</td>\n",
       "      <td>0</td>\n",
       "      <td>0</td>\n",
       "      <td>0</td>\n",
       "      <td>0</td>\n",
       "    </tr>\n",
       "    <tr>\n",
       "      <th>2</th>\n",
       "      <td>tt0069049</td>\n",
       "      <td>The Other Side of the Wind</td>\n",
       "      <td>The Other Side of the Wind</td>\n",
       "      <td>2018</td>\n",
       "      <td>122.0</td>\n",
       "      <td>Drama</td>\n",
       "      <td>[Drama]</td>\n",
       "      <td>0</td>\n",
       "      <td>0</td>\n",
       "      <td>1</td>\n",
       "      <td>...</td>\n",
       "      <td>0</td>\n",
       "      <td>0</td>\n",
       "      <td>0</td>\n",
       "      <td>0</td>\n",
       "      <td>0</td>\n",
       "      <td>0</td>\n",
       "      <td>0</td>\n",
       "      <td>0</td>\n",
       "      <td>0</td>\n",
       "      <td>0</td>\n",
       "    </tr>\n",
       "    <tr>\n",
       "      <th>3</th>\n",
       "      <td>tt0069204</td>\n",
       "      <td>Sabse Bada Sukh</td>\n",
       "      <td>Sabse Bada Sukh</td>\n",
       "      <td>2018</td>\n",
       "      <td>NaN</td>\n",
       "      <td>Comedy,Drama</td>\n",
       "      <td>[Comedy, Drama]</td>\n",
       "      <td>0</td>\n",
       "      <td>0</td>\n",
       "      <td>1</td>\n",
       "      <td>...</td>\n",
       "      <td>0</td>\n",
       "      <td>0</td>\n",
       "      <td>0</td>\n",
       "      <td>0</td>\n",
       "      <td>0</td>\n",
       "      <td>0</td>\n",
       "      <td>0</td>\n",
       "      <td>0</td>\n",
       "      <td>0</td>\n",
       "      <td>0</td>\n",
       "    </tr>\n",
       "    <tr>\n",
       "      <th>4</th>\n",
       "      <td>tt0100275</td>\n",
       "      <td>The Wandering Soap Opera</td>\n",
       "      <td>La Telenovela Errante</td>\n",
       "      <td>2017</td>\n",
       "      <td>80.0</td>\n",
       "      <td>Comedy,Drama,Fantasy</td>\n",
       "      <td>[Comedy, Drama, Fantasy]</td>\n",
       "      <td>0</td>\n",
       "      <td>0</td>\n",
       "      <td>1</td>\n",
       "      <td>...</td>\n",
       "      <td>0</td>\n",
       "      <td>0</td>\n",
       "      <td>0</td>\n",
       "      <td>0</td>\n",
       "      <td>0</td>\n",
       "      <td>0</td>\n",
       "      <td>0</td>\n",
       "      <td>0</td>\n",
       "      <td>0</td>\n",
       "      <td>0</td>\n",
       "    </tr>\n",
       "    <tr>\n",
       "      <th>5</th>\n",
       "      <td>tt0111414</td>\n",
       "      <td>A Thin Life</td>\n",
       "      <td>A Thin Life</td>\n",
       "      <td>2018</td>\n",
       "      <td>75.0</td>\n",
       "      <td>Comedy</td>\n",
       "      <td>[Comedy]</td>\n",
       "      <td>0</td>\n",
       "      <td>0</td>\n",
       "      <td>0</td>\n",
       "      <td>...</td>\n",
       "      <td>0</td>\n",
       "      <td>0</td>\n",
       "      <td>0</td>\n",
       "      <td>0</td>\n",
       "      <td>0</td>\n",
       "      <td>0</td>\n",
       "      <td>0</td>\n",
       "      <td>0</td>\n",
       "      <td>0</td>\n",
       "      <td>0</td>\n",
       "    </tr>\n",
       "    <tr>\n",
       "      <th>...</th>\n",
       "      <td>...</td>\n",
       "      <td>...</td>\n",
       "      <td>...</td>\n",
       "      <td>...</td>\n",
       "      <td>...</td>\n",
       "      <td>...</td>\n",
       "      <td>...</td>\n",
       "      <td>...</td>\n",
       "      <td>...</td>\n",
       "      <td>...</td>\n",
       "      <td>...</td>\n",
       "      <td>...</td>\n",
       "      <td>...</td>\n",
       "      <td>...</td>\n",
       "      <td>...</td>\n",
       "      <td>...</td>\n",
       "      <td>...</td>\n",
       "      <td>...</td>\n",
       "      <td>...</td>\n",
       "      <td>...</td>\n",
       "      <td>...</td>\n",
       "    </tr>\n",
       "    <tr>\n",
       "      <th>146133</th>\n",
       "      <td>tt9916132</td>\n",
       "      <td>The Mystery of a Buryat Lama</td>\n",
       "      <td>The Mystery of a Buryat Lama</td>\n",
       "      <td>2018</td>\n",
       "      <td>94.0</td>\n",
       "      <td>Biography,Documentary,History</td>\n",
       "      <td>[Biography, Documentary, History]</td>\n",
       "      <td>0</td>\n",
       "      <td>0</td>\n",
       "      <td>0</td>\n",
       "      <td>...</td>\n",
       "      <td>1</td>\n",
       "      <td>0</td>\n",
       "      <td>0</td>\n",
       "      <td>0</td>\n",
       "      <td>0</td>\n",
       "      <td>0</td>\n",
       "      <td>0</td>\n",
       "      <td>0</td>\n",
       "      <td>0</td>\n",
       "      <td>0</td>\n",
       "    </tr>\n",
       "    <tr>\n",
       "      <th>146136</th>\n",
       "      <td>tt9916186</td>\n",
       "      <td>Illenau - die Geschichte einer ehemaligen Heil...</td>\n",
       "      <td>Illenau - die Geschichte einer ehemaligen Heil...</td>\n",
       "      <td>2017</td>\n",
       "      <td>84.0</td>\n",
       "      <td>Documentary</td>\n",
       "      <td>[Documentary]</td>\n",
       "      <td>0</td>\n",
       "      <td>0</td>\n",
       "      <td>0</td>\n",
       "      <td>...</td>\n",
       "      <td>0</td>\n",
       "      <td>0</td>\n",
       "      <td>0</td>\n",
       "      <td>0</td>\n",
       "      <td>0</td>\n",
       "      <td>0</td>\n",
       "      <td>0</td>\n",
       "      <td>0</td>\n",
       "      <td>0</td>\n",
       "      <td>0</td>\n",
       "    </tr>\n",
       "    <tr>\n",
       "      <th>146140</th>\n",
       "      <td>tt9916622</td>\n",
       "      <td>Rodolpho Teóphilo - O Legado de um Pioneiro</td>\n",
       "      <td>Rodolpho Teóphilo - O Legado de um Pioneiro</td>\n",
       "      <td>2015</td>\n",
       "      <td>NaN</td>\n",
       "      <td>Documentary</td>\n",
       "      <td>[Documentary]</td>\n",
       "      <td>0</td>\n",
       "      <td>0</td>\n",
       "      <td>0</td>\n",
       "      <td>...</td>\n",
       "      <td>0</td>\n",
       "      <td>0</td>\n",
       "      <td>0</td>\n",
       "      <td>0</td>\n",
       "      <td>0</td>\n",
       "      <td>0</td>\n",
       "      <td>0</td>\n",
       "      <td>0</td>\n",
       "      <td>0</td>\n",
       "      <td>0</td>\n",
       "    </tr>\n",
       "    <tr>\n",
       "      <th>146141</th>\n",
       "      <td>tt9916706</td>\n",
       "      <td>Dankyavar Danka</td>\n",
       "      <td>Dankyavar Danka</td>\n",
       "      <td>2013</td>\n",
       "      <td>NaN</td>\n",
       "      <td>Comedy</td>\n",
       "      <td>[Comedy]</td>\n",
       "      <td>0</td>\n",
       "      <td>0</td>\n",
       "      <td>0</td>\n",
       "      <td>...</td>\n",
       "      <td>0</td>\n",
       "      <td>0</td>\n",
       "      <td>0</td>\n",
       "      <td>0</td>\n",
       "      <td>0</td>\n",
       "      <td>0</td>\n",
       "      <td>0</td>\n",
       "      <td>0</td>\n",
       "      <td>0</td>\n",
       "      <td>0</td>\n",
       "    </tr>\n",
       "    <tr>\n",
       "      <th>146143</th>\n",
       "      <td>tt9916754</td>\n",
       "      <td>Chico Albuquerque - Revelações</td>\n",
       "      <td>Chico Albuquerque - Revelações</td>\n",
       "      <td>2013</td>\n",
       "      <td>NaN</td>\n",
       "      <td>Documentary</td>\n",
       "      <td>[Documentary]</td>\n",
       "      <td>0</td>\n",
       "      <td>0</td>\n",
       "      <td>0</td>\n",
       "      <td>...</td>\n",
       "      <td>0</td>\n",
       "      <td>0</td>\n",
       "      <td>0</td>\n",
       "      <td>0</td>\n",
       "      <td>0</td>\n",
       "      <td>0</td>\n",
       "      <td>0</td>\n",
       "      <td>0</td>\n",
       "      <td>0</td>\n",
       "      <td>0</td>\n",
       "    </tr>\n",
       "  </tbody>\n",
       "</table>\n",
       "<p>131664 rows × 28 columns</p>\n",
       "</div>"
      ],
      "text/plain": [
       "           tconst                                      primary_title  \\\n",
       "0       tt0063540                                          Sunghursh   \n",
       "2       tt0069049                         The Other Side of the Wind   \n",
       "3       tt0069204                                    Sabse Bada Sukh   \n",
       "4       tt0100275                           The Wandering Soap Opera   \n",
       "5       tt0111414                                        A Thin Life   \n",
       "...           ...                                                ...   \n",
       "146133  tt9916132                       The Mystery of a Buryat Lama   \n",
       "146136  tt9916186  Illenau - die Geschichte einer ehemaligen Heil...   \n",
       "146140  tt9916622        Rodolpho Teóphilo - O Legado de um Pioneiro   \n",
       "146141  tt9916706                                    Dankyavar Danka   \n",
       "146143  tt9916754                     Chico Albuquerque - Revelações   \n",
       "\n",
       "                                           original_title  start_year  \\\n",
       "0                                               Sunghursh        2013   \n",
       "2                              The Other Side of the Wind        2018   \n",
       "3                                         Sabse Bada Sukh        2018   \n",
       "4                                   La Telenovela Errante        2017   \n",
       "5                                             A Thin Life        2018   \n",
       "...                                                   ...         ...   \n",
       "146133                       The Mystery of a Buryat Lama        2018   \n",
       "146136  Illenau - die Geschichte einer ehemaligen Heil...        2017   \n",
       "146140        Rodolpho Teóphilo - O Legado de um Pioneiro        2015   \n",
       "146141                                    Dankyavar Danka        2013   \n",
       "146143                     Chico Albuquerque - Revelações        2013   \n",
       "\n",
       "        runtime_minutes                         genres  \\\n",
       "0                 175.0             Action,Crime,Drama   \n",
       "2                 122.0                          Drama   \n",
       "3                   NaN                   Comedy,Drama   \n",
       "4                  80.0           Comedy,Drama,Fantasy   \n",
       "5                  75.0                         Comedy   \n",
       "...                 ...                            ...   \n",
       "146133             94.0  Biography,Documentary,History   \n",
       "146136             84.0                    Documentary   \n",
       "146140              NaN                    Documentary   \n",
       "146141              NaN                         Comedy   \n",
       "146143              NaN                    Documentary   \n",
       "\n",
       "                             genres_split  Action  Crime  Drama  ...  \\\n",
       "0                  [Action, Crime, Drama]       1      1      1  ...   \n",
       "2                                 [Drama]       0      0      1  ...   \n",
       "3                         [Comedy, Drama]       0      0      1  ...   \n",
       "4                [Comedy, Drama, Fantasy]       0      0      1  ...   \n",
       "5                                [Comedy]       0      0      0  ...   \n",
       "...                                   ...     ...    ...    ...  ...   \n",
       "146133  [Biography, Documentary, History]       0      0      0  ...   \n",
       "146136                      [Documentary]       0      0      0  ...   \n",
       "146140                      [Documentary]       0      0      0  ...   \n",
       "146141                           [Comedy]       0      0      0  ...   \n",
       "146143                      [Documentary]       0      0      0  ...   \n",
       "\n",
       "        Biography  Mystery  Sci-Fi  Romance  Family  War  Music  Sport  \\\n",
       "0               0        0       0        0       0    0      0      0   \n",
       "2               0        0       0        0       0    0      0      0   \n",
       "3               0        0       0        0       0    0      0      0   \n",
       "4               0        0       0        0       0    0      0      0   \n",
       "5               0        0       0        0       0    0      0      0   \n",
       "...           ...      ...     ...      ...     ...  ...    ...    ...   \n",
       "146133          1        0       0        0       0    0      0      0   \n",
       "146136          0        0       0        0       0    0      0      0   \n",
       "146140          0        0       0        0       0    0      0      0   \n",
       "146141          0        0       0        0       0    0      0      0   \n",
       "146143          0        0       0        0       0    0      0      0   \n",
       "\n",
       "        Western  Musical  \n",
       "0             0        0  \n",
       "2             0        0  \n",
       "3             0        0  \n",
       "4             0        0  \n",
       "5             0        0  \n",
       "...         ...      ...  \n",
       "146133        0        0  \n",
       "146136        0        0  \n",
       "146140        0        0  \n",
       "146141        0        0  \n",
       "146143        0        0  \n",
       "\n",
       "[131664 rows x 28 columns]"
      ]
     },
     "execution_count": 34,
     "metadata": {},
     "output_type": "execute_result"
    }
   ],
   "source": [
    "#Mark each film with ganres\n",
    "ganres_df_divided = ganres_df\n",
    "\n",
    "for i in ganre_types:\n",
    "    ganres_df_divided[i] = 0\n",
    "\n",
    "for i in ganre_types:\n",
    "     for k in range(len(ganres_df_divided[\"genres_split\"])):\n",
    "        if i in ganres_df_divided[\"genres_split\"].values[k]:\n",
    "            ganres_df_divided[i].values[k] = 1\n",
    "            \n",
    "ganres_df_divided\n"
   ]
  },
  {
   "cell_type": "code",
   "execution_count": 37,
   "metadata": {},
   "outputs": [
    {
     "data": {
      "text/plain": [
       "<AxesSubplot:title={'center':'The average number of films in different ganres'}, xlabel='Ganres', ylabel='Average Number of films per year'>"
      ]
     },
     "execution_count": 37,
     "metadata": {},
     "output_type": "execute_result"
    },
    {
     "data": {
      "image/png": "[encoded data removed]",
      "text/plain": [
       "<Figure size 1008x360 with 1 Axes>"
      ]
     },
     "metadata": {
      "needs_background": "light"
     },
     "output_type": "display_data"
    }
   ],
   "source": [
    "#Find values\n",
    "ganres_df_divided.groupby(\"start_year\").sum()\n",
    "ganres_df_divided\n",
    "\n",
    "#Drop unused numeric columns \n",
    "ganres_end = ganres_df_divided.drop([\"runtime_minutes\"], axis=1)\n",
    "fig, ax = plt.subplots(figsize= (14, 5))\n",
    "ax.set_xlabel(\"Ganres\")\n",
    "ax.set_ylabel(\"Average Number of films per year\")\n",
    "ax.set_title(\"The average number of films in different ganres\")\n",
    "plt.xticks(rotation=45)\n",
    "sns.barplot(data = ganres_end.groupby(\"start_year\").sum())\n"
   ]
  },
  {
   "cell_type": "code",
   "execution_count": 38,
   "metadata": {},
   "outputs": [
    {
     "data": {
      "text/plain": [
       "start_year    -0.031119\n",
       "Action        -0.187402\n",
       "Crime         -0.130318\n",
       "Drama         -0.426972\n",
       "Comedy        -0.308025\n",
       "Fantasy       -0.110313\n",
       "Horror        -0.214891\n",
       "Thriller      -0.229152\n",
       "Adventure     -0.033764\n",
       "Animation     -0.074587\n",
       "Documentary    1.000000\n",
       "History        0.155748\n",
       "Biography      0.221674\n",
       "Mystery       -0.124437\n",
       "Sci-Fi        -0.113091\n",
       "Romance       -0.198111\n",
       "Family        -0.020107\n",
       "War            0.005159\n",
       "Music          0.076683\n",
       "Sport          0.049906\n",
       "Western       -0.027026\n",
       "Musical       -0.044040\n",
       "dtype: float64"
      ]
     },
     "execution_count": 38,
     "metadata": {},
     "output_type": "execute_result"
    }
   ],
   "source": [
    "ganres_end.corrwith(ganres_end[\"Documentary\"])"
   ]
  },
  {
   "cell_type": "code",
   "execution_count": 40,
   "metadata": {},
   "outputs": [
    {
     "data": {
      "text/plain": [
       "<AxesSubplot:title={'center':'Films ganre distribution over the years (heatmap)'}, ylabel='start_year'>"
      ]
     },
     "execution_count": 40,
     "metadata": {},
     "output_type": "execute_result"
    },
    {
     "data": {
      "image/png": "[encoded data removed]",
      "text/plain": [
       "<Figure size 1080x432 with 3 Axes>"
      ]
     },
     "metadata": {
      "needs_background": "light"
     },
     "output_type": "display_data"
    }
   ],
   "source": [
    "ganres_end_excl = ganres_end.drop([\"Drama\", \"Documentary\", \"Comedy\"], axis=1 )\n",
    "\n",
    "fig, ax = plt.subplots(1, 2, figsize= (15, 6))\n",
    "ax0=ax[0]\n",
    "ax1=ax[1]\n",
    "ax0.set_xlabel(\"Years\")\n",
    "ax0.set_ylabel(\"N of films\")\n",
    "#ax0.legend(bbox_to_anchor = (1,1), loc = \"upper left\")\n",
    "ax1.set_xlabel(\"Ganres\")\n",
    "ax1.set_ylabel(\"Years\")\n",
    "ax0.set_title(\"Films ganre distribution over the years\")\n",
    "ax1.set_title(\"Films ganre distribution over the years (heatmap)\")\n",
    "\n",
    "\n",
    "\n",
    "sns.lineplot(data = ganres_end_excl.groupby(\"start_year\").sum(), ax = ax0)\n",
    "sns.heatmap(data = ganres_end_excl.groupby(\"start_year\").sum(), ax = ax1)\n",
    "\n",
    "\n"
   ]
  },
  {
   "cell_type": "code",
   "execution_count": 39,
   "metadata": {},
   "outputs": [
    {
     "name": "stdout",
     "output_type": "stream",
     "text": [
      "<class 'pandas.core.frame.DataFrame'>\n",
      "RangeIndex: 73856 entries, 0 to 73855\n",
      "Data columns (total 3 columns):\n",
      " #   Column         Non-Null Count  Dtype  \n",
      "---  ------         --------------  -----  \n",
      " 0   tconst         73856 non-null  object \n",
      " 1   averagerating  73856 non-null  float64\n",
      " 2   numvotes       73856 non-null  int64  \n",
      "dtypes: float64(1), int64(1), object(1)\n",
      "memory usage: 1.7+ MB\n",
      "<class 'pandas.core.frame.DataFrame'>\n",
      "Int64Index: 131664 entries, 0 to 146143\n",
      "Data columns (total 27 columns):\n",
      " #   Column          Non-Null Count   Dtype \n",
      "---  ------          --------------   ----- \n",
      " 0   tconst          131664 non-null  object\n",
      " 1   primary_title   131664 non-null  object\n",
      " 2   original_title  131662 non-null  object\n",
      " 3   start_year      131664 non-null  int64 \n",
      " 4   genres          131664 non-null  object\n",
      " 5   genres_split    131664 non-null  object\n",
      " 6   Action          131664 non-null  int64 \n",
      " 7   Crime           131664 non-null  int64 \n",
      " 8   Drama           131664 non-null  int64 \n",
      " 9   Comedy          131664 non-null  int64 \n",
      " 10  Fantasy         131664 non-null  int64 \n",
      " 11  Horror          131664 non-null  int64 \n",
      " 12  Thriller        131664 non-null  int64 \n",
      " 13  Adventure       131664 non-null  int64 \n",
      " 14  Animation       131664 non-null  int64 \n",
      " 15  Documentary     131664 non-null  int64 \n",
      " 16  History         131664 non-null  int64 \n",
      " 17  Biography       131664 non-null  int64 \n",
      " 18  Mystery         131664 non-null  int64 \n",
      " 19  Sci-Fi          131664 non-null  int64 \n",
      " 20  Romance         131664 non-null  int64 \n",
      " 21  Family          131664 non-null  int64 \n",
      " 22  War             131664 non-null  int64 \n",
      " 23  Music           131664 non-null  int64 \n",
      " 24  Sport           131664 non-null  int64 \n",
      " 25  Western         131664 non-null  int64 \n",
      " 26  Musical         131664 non-null  int64 \n",
      "dtypes: int64(22), object(5)\n",
      "memory usage: 32.2+ MB\n"
     ]
    },
    {
     "data": {
      "text/html": [
       "<div>\n",
       "<style scoped>\n",
       "    .dataframe tbody tr th:only-of-type {\n",
       "        vertical-align: middle;\n",
       "    }\n",
       "\n",
       "    .dataframe tbody tr th {\n",
       "        vertical-align: top;\n",
       "    }\n",
       "\n",
       "    .dataframe thead th {\n",
       "        text-align: right;\n",
       "    }\n",
       "</style>\n",
       "<table border=\"1\" class=\"dataframe\">\n",
       "  <thead>\n",
       "    <tr style=\"text-align: right;\">\n",
       "      <th></th>\n",
       "      <th>tconst</th>\n",
       "      <th>primary_title</th>\n",
       "      <th>original_title</th>\n",
       "      <th>start_year</th>\n",
       "      <th>genres</th>\n",
       "      <th>genres_split</th>\n",
       "      <th>Action</th>\n",
       "      <th>Crime</th>\n",
       "      <th>Drama</th>\n",
       "      <th>Comedy</th>\n",
       "      <th>...</th>\n",
       "      <th>Sci-Fi</th>\n",
       "      <th>Romance</th>\n",
       "      <th>Family</th>\n",
       "      <th>War</th>\n",
       "      <th>Music</th>\n",
       "      <th>Sport</th>\n",
       "      <th>Western</th>\n",
       "      <th>Musical</th>\n",
       "      <th>averagerating</th>\n",
       "      <th>numvotes</th>\n",
       "    </tr>\n",
       "  </thead>\n",
       "  <tbody>\n",
       "    <tr>\n",
       "      <th>0</th>\n",
       "      <td>tt0063540</td>\n",
       "      <td>Sunghursh</td>\n",
       "      <td>Sunghursh</td>\n",
       "      <td>2013</td>\n",
       "      <td>Action,Crime,Drama</td>\n",
       "      <td>[Action, Crime, Drama]</td>\n",
       "      <td>1</td>\n",
       "      <td>1</td>\n",
       "      <td>1</td>\n",
       "      <td>0</td>\n",
       "      <td>...</td>\n",
       "      <td>0</td>\n",
       "      <td>0</td>\n",
       "      <td>0</td>\n",
       "      <td>0</td>\n",
       "      <td>0</td>\n",
       "      <td>0</td>\n",
       "      <td>0</td>\n",
       "      <td>0</td>\n",
       "      <td>7.0</td>\n",
       "      <td>77</td>\n",
       "    </tr>\n",
       "    <tr>\n",
       "      <th>1</th>\n",
       "      <td>tt0069049</td>\n",
       "      <td>The Other Side of the Wind</td>\n",
       "      <td>The Other Side of the Wind</td>\n",
       "      <td>2018</td>\n",
       "      <td>Drama</td>\n",
       "      <td>[Drama]</td>\n",
       "      <td>0</td>\n",
       "      <td>0</td>\n",
       "      <td>1</td>\n",
       "      <td>0</td>\n",
       "      <td>...</td>\n",
       "      <td>0</td>\n",
       "      <td>0</td>\n",
       "      <td>0</td>\n",
       "      <td>0</td>\n",
       "      <td>0</td>\n",
       "      <td>0</td>\n",
       "      <td>0</td>\n",
       "      <td>0</td>\n",
       "      <td>6.9</td>\n",
       "      <td>4517</td>\n",
       "    </tr>\n",
       "    <tr>\n",
       "      <th>2</th>\n",
       "      <td>tt0069204</td>\n",
       "      <td>Sabse Bada Sukh</td>\n",
       "      <td>Sabse Bada Sukh</td>\n",
       "      <td>2018</td>\n",
       "      <td>Comedy,Drama</td>\n",
       "      <td>[Comedy, Drama]</td>\n",
       "      <td>0</td>\n",
       "      <td>0</td>\n",
       "      <td>1</td>\n",
       "      <td>1</td>\n",
       "      <td>...</td>\n",
       "      <td>0</td>\n",
       "      <td>0</td>\n",
       "      <td>0</td>\n",
       "      <td>0</td>\n",
       "      <td>0</td>\n",
       "      <td>0</td>\n",
       "      <td>0</td>\n",
       "      <td>0</td>\n",
       "      <td>6.1</td>\n",
       "      <td>13</td>\n",
       "    </tr>\n",
       "    <tr>\n",
       "      <th>3</th>\n",
       "      <td>tt0100275</td>\n",
       "      <td>The Wandering Soap Opera</td>\n",
       "      <td>La Telenovela Errante</td>\n",
       "      <td>2017</td>\n",
       "      <td>Comedy,Drama,Fantasy</td>\n",
       "      <td>[Comedy, Drama, Fantasy]</td>\n",
       "      <td>0</td>\n",
       "      <td>0</td>\n",
       "      <td>1</td>\n",
       "      <td>1</td>\n",
       "      <td>...</td>\n",
       "      <td>0</td>\n",
       "      <td>0</td>\n",
       "      <td>0</td>\n",
       "      <td>0</td>\n",
       "      <td>0</td>\n",
       "      <td>0</td>\n",
       "      <td>0</td>\n",
       "      <td>0</td>\n",
       "      <td>6.5</td>\n",
       "      <td>119</td>\n",
       "    </tr>\n",
       "    <tr>\n",
       "      <th>4</th>\n",
       "      <td>tt0112502</td>\n",
       "      <td>Bigfoot</td>\n",
       "      <td>Bigfoot</td>\n",
       "      <td>2017</td>\n",
       "      <td>Horror,Thriller</td>\n",
       "      <td>[Horror, Thriller]</td>\n",
       "      <td>0</td>\n",
       "      <td>0</td>\n",
       "      <td>0</td>\n",
       "      <td>0</td>\n",
       "      <td>...</td>\n",
       "      <td>0</td>\n",
       "      <td>0</td>\n",
       "      <td>0</td>\n",
       "      <td>0</td>\n",
       "      <td>0</td>\n",
       "      <td>0</td>\n",
       "      <td>0</td>\n",
       "      <td>0</td>\n",
       "      <td>4.1</td>\n",
       "      <td>32</td>\n",
       "    </tr>\n",
       "    <tr>\n",
       "      <th>...</th>\n",
       "      <td>...</td>\n",
       "      <td>...</td>\n",
       "      <td>...</td>\n",
       "      <td>...</td>\n",
       "      <td>...</td>\n",
       "      <td>...</td>\n",
       "      <td>...</td>\n",
       "      <td>...</td>\n",
       "      <td>...</td>\n",
       "      <td>...</td>\n",
       "      <td>...</td>\n",
       "      <td>...</td>\n",
       "      <td>...</td>\n",
       "      <td>...</td>\n",
       "      <td>...</td>\n",
       "      <td>...</td>\n",
       "      <td>...</td>\n",
       "      <td>...</td>\n",
       "      <td>...</td>\n",
       "      <td>...</td>\n",
       "      <td>...</td>\n",
       "    </tr>\n",
       "    <tr>\n",
       "      <th>70878</th>\n",
       "      <td>tt9900180</td>\n",
       "      <td>Aavahayami</td>\n",
       "      <td>Aavahayami</td>\n",
       "      <td>2017</td>\n",
       "      <td>Mystery</td>\n",
       "      <td>[Mystery]</td>\n",
       "      <td>0</td>\n",
       "      <td>0</td>\n",
       "      <td>0</td>\n",
       "      <td>0</td>\n",
       "      <td>...</td>\n",
       "      <td>0</td>\n",
       "      <td>0</td>\n",
       "      <td>0</td>\n",
       "      <td>0</td>\n",
       "      <td>0</td>\n",
       "      <td>0</td>\n",
       "      <td>0</td>\n",
       "      <td>0</td>\n",
       "      <td>9.0</td>\n",
       "      <td>9</td>\n",
       "    </tr>\n",
       "    <tr>\n",
       "      <th>70879</th>\n",
       "      <td>tt9903952</td>\n",
       "      <td>BADMEN with a good behavior</td>\n",
       "      <td>BADMEN with a good behavior</td>\n",
       "      <td>2018</td>\n",
       "      <td>Comedy,Horror</td>\n",
       "      <td>[Comedy, Horror]</td>\n",
       "      <td>0</td>\n",
       "      <td>0</td>\n",
       "      <td>0</td>\n",
       "      <td>1</td>\n",
       "      <td>...</td>\n",
       "      <td>0</td>\n",
       "      <td>0</td>\n",
       "      <td>0</td>\n",
       "      <td>0</td>\n",
       "      <td>0</td>\n",
       "      <td>0</td>\n",
       "      <td>0</td>\n",
       "      <td>0</td>\n",
       "      <td>9.2</td>\n",
       "      <td>5</td>\n",
       "    </tr>\n",
       "    <tr>\n",
       "      <th>70880</th>\n",
       "      <td>tt9904014</td>\n",
       "      <td>Lost in Klessin</td>\n",
       "      <td>Lost in Klessin</td>\n",
       "      <td>2018</td>\n",
       "      <td>War</td>\n",
       "      <td>[War]</td>\n",
       "      <td>0</td>\n",
       "      <td>0</td>\n",
       "      <td>0</td>\n",
       "      <td>0</td>\n",
       "      <td>...</td>\n",
       "      <td>0</td>\n",
       "      <td>0</td>\n",
       "      <td>0</td>\n",
       "      <td>1</td>\n",
       "      <td>0</td>\n",
       "      <td>0</td>\n",
       "      <td>0</td>\n",
       "      <td>0</td>\n",
       "      <td>7.3</td>\n",
       "      <td>12</td>\n",
       "    </tr>\n",
       "    <tr>\n",
       "      <th>70881</th>\n",
       "      <td>tt9908960</td>\n",
       "      <td>Pliusas</td>\n",
       "      <td>Pliusas</td>\n",
       "      <td>2018</td>\n",
       "      <td>Comedy</td>\n",
       "      <td>[Comedy]</td>\n",
       "      <td>0</td>\n",
       "      <td>0</td>\n",
       "      <td>0</td>\n",
       "      <td>1</td>\n",
       "      <td>...</td>\n",
       "      <td>0</td>\n",
       "      <td>0</td>\n",
       "      <td>0</td>\n",
       "      <td>0</td>\n",
       "      <td>0</td>\n",
       "      <td>0</td>\n",
       "      <td>0</td>\n",
       "      <td>0</td>\n",
       "      <td>4.2</td>\n",
       "      <td>13</td>\n",
       "    </tr>\n",
       "    <tr>\n",
       "      <th>70882</th>\n",
       "      <td>tt9914642</td>\n",
       "      <td>Albatross</td>\n",
       "      <td>Albatross</td>\n",
       "      <td>2017</td>\n",
       "      <td>Documentary</td>\n",
       "      <td>[Documentary]</td>\n",
       "      <td>0</td>\n",
       "      <td>0</td>\n",
       "      <td>0</td>\n",
       "      <td>0</td>\n",
       "      <td>...</td>\n",
       "      <td>0</td>\n",
       "      <td>0</td>\n",
       "      <td>0</td>\n",
       "      <td>0</td>\n",
       "      <td>0</td>\n",
       "      <td>0</td>\n",
       "      <td>0</td>\n",
       "      <td>0</td>\n",
       "      <td>8.5</td>\n",
       "      <td>8</td>\n",
       "    </tr>\n",
       "  </tbody>\n",
       "</table>\n",
       "<p>70883 rows × 29 columns</p>\n",
       "</div>"
      ],
      "text/plain": [
       "          tconst                primary_title               original_title  \\\n",
       "0      tt0063540                    Sunghursh                    Sunghursh   \n",
       "1      tt0069049   The Other Side of the Wind   The Other Side of the Wind   \n",
       "2      tt0069204              Sabse Bada Sukh              Sabse Bada Sukh   \n",
       "3      tt0100275     The Wandering Soap Opera        La Telenovela Errante   \n",
       "4      tt0112502                      Bigfoot                      Bigfoot   \n",
       "...          ...                          ...                          ...   \n",
       "70878  tt9900180                   Aavahayami                   Aavahayami   \n",
       "70879  tt9903952  BADMEN with a good behavior  BADMEN with a good behavior   \n",
       "70880  tt9904014              Lost in Klessin              Lost in Klessin   \n",
       "70881  tt9908960                      Pliusas                      Pliusas   \n",
       "70882  tt9914642                    Albatross                    Albatross   \n",
       "\n",
       "       start_year                genres              genres_split  Action  \\\n",
       "0            2013    Action,Crime,Drama    [Action, Crime, Drama]       1   \n",
       "1            2018                 Drama                   [Drama]       0   \n",
       "2            2018          Comedy,Drama           [Comedy, Drama]       0   \n",
       "3            2017  Comedy,Drama,Fantasy  [Comedy, Drama, Fantasy]       0   \n",
       "4            2017       Horror,Thriller        [Horror, Thriller]       0   \n",
       "...           ...                   ...                       ...     ...   \n",
       "70878        2017               Mystery                 [Mystery]       0   \n",
       "70879        2018         Comedy,Horror          [Comedy, Horror]       0   \n",
       "70880        2018                   War                     [War]       0   \n",
       "70881        2018                Comedy                  [Comedy]       0   \n",
       "70882        2017           Documentary             [Documentary]       0   \n",
       "\n",
       "       Crime  Drama  Comedy  ...  Sci-Fi  Romance  Family  War  Music  Sport  \\\n",
       "0          1      1       0  ...       0        0       0    0      0      0   \n",
       "1          0      1       0  ...       0        0       0    0      0      0   \n",
       "2          0      1       1  ...       0        0       0    0      0      0   \n",
       "3          0      1       1  ...       0        0       0    0      0      0   \n",
       "4          0      0       0  ...       0        0       0    0      0      0   \n",
       "...      ...    ...     ...  ...     ...      ...     ...  ...    ...    ...   \n",
       "70878      0      0       0  ...       0        0       0    0      0      0   \n",
       "70879      0      0       1  ...       0        0       0    0      0      0   \n",
       "70880      0      0       0  ...       0        0       0    1      0      0   \n",
       "70881      0      0       1  ...       0        0       0    0      0      0   \n",
       "70882      0      0       0  ...       0        0       0    0      0      0   \n",
       "\n",
       "       Western  Musical  averagerating  numvotes  \n",
       "0            0        0            7.0        77  \n",
       "1            0        0            6.9      4517  \n",
       "2            0        0            6.1        13  \n",
       "3            0        0            6.5       119  \n",
       "4            0        0            4.1        32  \n",
       "...        ...      ...            ...       ...  \n",
       "70878        0        0            9.0         9  \n",
       "70879        0        0            9.2         5  \n",
       "70880        0        0            7.3        12  \n",
       "70881        0        0            4.2        13  \n",
       "70882        0        0            8.5         8  \n",
       "\n",
       "[70883 rows x 29 columns]"
      ]
     },
     "execution_count": 39,
     "metadata": {},
     "output_type": "execute_result"
    },
    {
     "data": {
      "image/png": "[encoded data removed]",
      "text/plain": [
       "<Figure size 432x288 with 1 Axes>"
      ]
     },
     "metadata": {
      "needs_background": "light"
     },
     "output_type": "display_data"
    }
   ],
   "source": [
    "#add raiting column\n",
    "# display(f\"File imdb.title.ratings.csv\")\n",
    "raiting_df = pd.read_csv(\"Data/imdb.title.ratings.csv\")\n",
    "raiting_df\n",
    "raiting_df.describe()\n",
    "\n",
    "# Hist to determine shape of raiting chart\n",
    "raiting_df[\"averagerating\"].plot(kind=\"hist\")\n",
    "\n",
    "raiting_df[\"numvotes\"].median()\n",
    "\n",
    "Ganres_rait = ganres_end.merge(raiting_df, on = \"tconst\",  how = \"inner\" )\n",
    "\n",
    "\n",
    "raiting_df.info()\n",
    "ganres_end.info()\n",
    "\n",
    "Ganres_rait\n",
    "\n",
    "\n",
    "\n",
    "\n"
   ]
  },
  {
   "cell_type": "markdown",
   "metadata": {},
   "source": [
    "This information about ganres doesn't have sense because the number of movies is too high and we didn't make any filter"
   ]
  },
  {
   "cell_type": "markdown",
   "metadata": {},
   "source": [
    "#### The number of films"
   ]
  },
  {
   "cell_type": "code",
   "execution_count": null,
   "metadata": {},
   "outputs": [],
   "source": []
  },
  {
   "cell_type": "code",
   "execution_count": null,
   "metadata": {},
   "outputs": [],
   "source": []
  },
  {
   "cell_type": "code",
   "execution_count": null,
   "metadata": {},
   "outputs": [],
   "source": [
    "\n",
    "\n",
    "\n",
    "film_pr2 = film_pr[(film_pr[\"category\"] == \"director\") | (film_pr[\"category\"] == \"producer\")]\n",
    "film_pr2.info()\n"
   ]
  },
  {
   "cell_type": "code",
   "execution_count": null,
   "metadata": {},
   "outputs": [],
   "source": [
    "names_short = names[[\"nconst\", \"primary_name\"]] \n",
    "display(names_short.shape)\n",
    "person_info= film_pr2.merge(names_short, on = \"nconst\",  how = \"inner\" )\n",
    "display(person_info.shape)\n",
    "\n",
    "person_info"
   ]
  },
  {
   "cell_type": "code",
   "execution_count": null,
   "metadata": {},
   "outputs": [],
   "source": [
    "# We have different number"
   ]
  }
 ],
 "metadata": {
  "kernelspec": {
   "display_name": "Python 3",
   "language": "python",
   "name": "python3"
  },
  "language_info": {
   "codemirror_mode": {
    "name": "ipython",
    "version": 3
   },
   "file_extension": ".py",
   "mimetype": "text/x-python",
   "name": "python",
   "nbconvert_exporter": "python",
   "pygments_lexer": "ipython3",
   "version": "3.8.8"
  }
 },
 "nbformat": 4,
 "nbformat_minor": 2
}
